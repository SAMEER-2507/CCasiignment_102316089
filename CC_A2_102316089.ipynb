{
  "nbformat": 4,
  "nbformat_minor": 0,
  "metadata": {
    "colab": {
      "provenance": []
    },
    "kernelspec": {
      "name": "python3",
      "display_name": "Python 3"
    },
    "language_info": {
      "name": "python"
    }
  },
  "cells": [
    {
      "cell_type": "markdown",
      "source": [
        "1. Create a List L that is defined as= [10, 20, 30, 40, 50, 60, 70, 80].\n",
        "i.\n",
        "WAP to add 200 and 300 to L.\n",
        "ii.\n",
        "iii.\n",
        "iv.\n",
        "WAP to remove 10 and 30 from L.\n",
        "WAP to sort L in ascending order.\n",
        "WAP to sort L in descending order."
      ],
      "metadata": {
        "id": "2nkA0sOss4eW"
      }
    },
    {
      "cell_type": "code",
      "execution_count": 1,
      "metadata": {
        "colab": {
          "base_uri": "https://localhost:8080/"
        },
        "id": "1M4G0foAsOuz",
        "outputId": "c56cbeac-f1b1-428f-9e5a-df08594e1df7"
      },
      "outputs": [
        {
          "output_type": "stream",
          "name": "stdout",
          "text": [
            "List after adding 200 and 300: [10, 20, 30, 40, 50, 60, 70, 80, 200, 300]\n",
            "List after removing 10 and 30: [20, 40, 50, 60, 70, 80, 200, 300]\n",
            "List in ascending order: [20, 40, 50, 60, 70, 80, 200, 300]\n",
            "List in descending order: [300, 200, 80, 70, 60, 50, 40, 20]\n"
          ]
        }
      ],
      "source": [
        "L = [10, 20, 30, 40, 50, 60, 70, 80]\n",
        "\n",
        "L.append(200)\n",
        "L.append(300)\n",
        "print(\"List after adding 200 and 300:\", L)\n",
        "\n",
        "L.remove(10)\n",
        "L.remove(30)\n",
        "print(\"List after removing 10 and 30:\", L)\n",
        "\n",
        "L.sort()\n",
        "print(\"List in ascending order:\", L)\n",
        "\n",
        "\n",
        "L.sort(reverse=True)\n",
        "print(\"List in descending order:\", L)"
      ]
    },
    {
      "cell_type": "markdown",
      "source": [
        "2. Create a tuple of marks scored as scores = (45, 89.5, 76, 45.4, 89, 92, 58, 45) and\n",
        "perform the following operations using tuple functions:\n",
        "i.\n",
        "ii.\n",
        "iii.\n",
        "iv.\n",
        "Identify the highest score and its index in the tuple.\n",
        "Find the lowest score and count how many times it appears.\n",
        "Reverse the tuple and return it as a list.\n",
        "Check if a specific score ‘76’ (input by the user) is present in the tuple and\n",
        "print its first occurrence index, or a message saying it’s not present."
      ],
      "metadata": {
        "id": "Q7IgV517tMID"
      }
    },
    {
      "cell_type": "code",
      "source": [
        "scores = (45, 89.5, 76, 45.4, 89, 92, 58, 45)\n",
        "\n",
        "highest_score = max(scores)\n",
        "highest_index = scores.index(highest_score)\n",
        "print(f\"Highest score: {highest_score} at index {highest_index}\")\n",
        "\n",
        "lowest_score = min(scores)\n",
        "count_lowest = scores.count(lowest_score)\n",
        "print(f\"Lowest score: {lowest_score}, Count: {count_lowest}\")\n",
        "\n",
        "reversed_scores = list(reversed(scores))\n",
        "print(\"Reversed tuple as a list:\", reversed_scores)\n",
        "\n",
        "user_score = float(input(\"Enter a score to search: \"))\n",
        "if user_score in scores:\n",
        "    print(f\"Score {user_score} is present at index {scores.index(user_score)}\")\n",
        "else:\n",
        "    print(f\"Score {user_score} is not present in the tuple.\")"
      ],
      "metadata": {
        "colab": {
          "base_uri": "https://localhost:8080/"
        },
        "id": "Qr3dcTurtiMg",
        "outputId": "16a83c30-8938-4972-96d9-a5af26bfa6de"
      },
      "execution_count": 2,
      "outputs": [
        {
          "output_type": "stream",
          "name": "stdout",
          "text": [
            "Highest score: 92 at index 5\n",
            "Lowest score: 45, Count: 2\n",
            "Reversed tuple as a list: [45, 58, 92, 89, 45.4, 76, 89.5, 45]\n",
            "Enter a score to search: 76\n",
            "Score 76.0 is present at index 2\n"
          ]
        }
      ]
    },
    {
      "cell_type": "markdown",
      "source": [
        "3. WAP to create a list of 100 random numbers between 100 and 900. Count and print\n",
        "the:\n",
        "i.\n",
        "ii.\n",
        "iii.\n",
        "All odd numbers\n",
        "All even numbers\n",
        "All prime numbers"
      ],
      "metadata": {
        "id": "nRBBN2oeNB3j"
      }
    },
    {
      "cell_type": "code",
      "source": [
        "import random\n",
        "random_numbers = [random.randint(100, 900) for _ in range(100)]\n",
        "\n",
        "odd_numbers = [num for num in random_numbers if num % 2 != 0]\n",
        "print(f\"Count of odd numbers: {len(odd_numbers)}\")\n",
        "\n",
        "even_numbers = [num for num in random_numbers if num % 2 == 0]\n",
        "print(f\"Count of even numbers: {len(even_numbers)}\")\n",
        "\n",
        "def is_prime(n):\n",
        "    if n < 2:\n",
        "        return False\n",
        "    for i in range(2, int(n ** 0.5) + 1):\n",
        "        if n % i == 0:\n",
        "            return False\n",
        "    return True\n",
        "\n",
        "prime_numbers = [num for num in random_numbers if is_prime(num)]\n",
        "print(f\"Count of prime numbers: {len(prime_numbers)}\")"
      ],
      "metadata": {
        "colab": {
          "base_uri": "https://localhost:8080/"
        },
        "id": "QgZhE6-PNIFs",
        "outputId": "ce5f0873-2bf7-43d0-94a0-e6cbc24d89d0"
      },
      "execution_count": 3,
      "outputs": [
        {
          "output_type": "stream",
          "name": "stdout",
          "text": [
            "Count of odd numbers: 44\n",
            "Count of even numbers: 56\n",
            "Count of prime numbers: 11\n"
          ]
        }
      ]
    },
    {
      "cell_type": "markdown",
      "source": [
        "4. Consider the following two sets, A and B, represen ng scores of two teams in mul ple\n",
        "matches.  A = {34, 56, 78, 90}  and B = {78, 45, 90, 23}\n",
        "WAP to perform the following opera ons using set func ons:\n",
        "i.\n",
        "Find the unique scores achieved by both teams (union of sets).\n",
        "ii.\n",
        "iii.\n",
        "iv.\n",
        "v.\n",
        "Iden fy the scores that are common to both teams (intersec on of sets).\n",
        "Find the scores that are exclusive to each team (symmetric difference).\n",
        "Check if the scores of team A are a subset of team B, and if team B's scores are\n",
        "a superset of team A.\n",
        "Remove a specific score 𝑋 (input by the user) from set A if it exists. If not, print\n",
        "a message saying it is not present."
      ],
      "metadata": {
        "id": "8ZhHvSIwNTnu"
      }
    },
    {
      "cell_type": "code",
      "source": [
        "A = {34, 56, 78, 90}\n",
        "B = {78, 45, 90, 23}\n",
        "\n",
        "union_scores = A | B\n",
        "print(\"Unique scores (Union of A and B):\", union_scores)\n",
        "\n",
        "intersection_scores = A & B\n",
        "print(\"Common scores (Intersection of A and B):\", intersection_scores)\n",
        "\n",
        "symmetric_diff_scores = A ^ B\n",
        "print(\"Exclusive scores (Symmetric difference):\", symmetric_diff_scores)\n",
        "\n",
        "is_A_subset_B = A.issubset(B)\n",
        "print(\"Is team A's scores a subset of team B?\", is_A_subset_B)\n",
        "\n",
        "is_B_superset_A = B.issuperset(A)\n",
        "print(\"Is team B's scores a superset of team A?\", is_B_superset_A)\n",
        "\n",
        "score_to_remove = int(input(\"Enter a score to remove from set A: \"))\n",
        "if score_to_remove in A:\n",
        "    A.remove(score_to_remove)\n",
        "    print(f\"Score {score_to_remove} removed from set A.\")\n",
        "else:\n",
        "    print(f\"Score {score_to_remove} is not present in set A.\")\n"
      ],
      "metadata": {
        "colab": {
          "base_uri": "https://localhost:8080/"
        },
        "id": "gp6FXMOANWgj",
        "outputId": "b4054892-0739-4fd4-8dff-f41c808be418"
      },
      "execution_count": 4,
      "outputs": [
        {
          "output_type": "stream",
          "name": "stdout",
          "text": [
            "Unique scores (Union of A and B): {34, 45, 78, 23, 56, 90}\n",
            "Common scores (Intersection of A and B): {90, 78}\n",
            "Exclusive scores (Symmetric difference): {34, 45, 23, 56}\n",
            "Is team A's scores a subset of team B? False\n",
            "Is team B's scores a superset of team A? False\n",
            "Enter a score to remove from set A: 56\n",
            "Score 56 removed from set A.\n"
          ]
        }
      ]
    },
    {
      "cell_type": "markdown",
      "source": [
        "5. Write a program to rename a key city to a loca on in the following dic onary."
      ],
      "metadata": {
        "id": "ucFf8sNLNk5v"
      }
    },
    {
      "cell_type": "code",
      "source": [
        "sample_dict = {\n",
        "    \"name\": \"Kelly\",\n",
        "    \"age\": 25,\n",
        "    \"salary\": 8000,\n",
        "    \"city\": \"New york\"\n",
        "}\n",
        "# Rename key 'city' to 'location'\n",
        "sample_dict[\"location\"] = sample_dict.pop(\"city\")\n",
        "\n",
        "print(sample_dict)"
      ],
      "metadata": {
        "colab": {
          "base_uri": "https://localhost:8080/"
        },
        "id": "0jMzrG-cNol0",
        "outputId": "bfe077b0-0f22-42d9-88bf-c6a6675fa18a"
      },
      "execution_count": 5,
      "outputs": [
        {
          "output_type": "stream",
          "name": "stdout",
          "text": [
            "{'name': 'Kelly', 'age': 25, 'salary': 8000, 'location': 'New york'}\n"
          ]
        }
      ]
    }
  ]
}